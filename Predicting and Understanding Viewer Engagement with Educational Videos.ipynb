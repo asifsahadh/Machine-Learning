{
 "cells": [
  {
   "cell_type": "markdown",
   "id": "0c63b236-f324-4632-9fde-209ba6d45ffa",
   "metadata": {},
   "source": [
    "## Predicting and Understanding Viewer Engagement with Educational Videos"
   ]
  },
  {
   "cell_type": "markdown",
   "id": "9cfca0a2-bb88-4c11-91b8-7f3752e2509c",
   "metadata": {},
   "source": [
    "This assignment involves predicting the engagement level of educational videos using supervised machine learning. Features extracted from transcripts, audio tracks, and hosting sites are utilized to determine engagement. Understanding which features contribute to viewer engagement in educational content is crucial for various sectors, making this problem both practical and representative of machine learning applications.\n",
    "\n",
    "\n",
    "**Data Fields**\n",
    "\n",
    "title_word_count - the number of words in the title of the video.\n",
    "\n",
    "document_entropy - a score indicating how varied the topics are covered in the video, based on the transcript. Videos with smaller entropy scores will tend to be more cohesive and more focused on a single topic.\n",
    "\n",
    "freshness - The number of days elapsed between 01/01/1970 and the lecture published date. Videos that are more recent will have higher freshness values.\n",
    "\n",
    "easiness - A text difficulty measure applied to the transcript. A lower score indicates more complex language used by the presenter.\n",
    "\n",
    "fraction_stopword_presence - A stopword is a very common word like 'the' or 'and'. This feature computes the fraction of all words that are stopwords in the video lecture transcript.\n",
    "\n",
    "speaker_speed - The average speaking rate in words per minute of the presenter in the video.\n",
    "\n",
    "silent_period_rate - The fraction of time in the lecture video that is silence (no speaking).\n",
    "train.csv only:\n",
    "\n",
    "engagement - Target label for training. True if learners watched a substantial portion of the video, or False otherwise (true if the median percentage of the video watched across all viewers was at least 30%, and false otherwise)."
   ]
  },
  {
   "cell_type": "markdown",
   "id": "ea5d8c01-e317-4757-9047-987821f51804",
   "metadata": {},
   "source": [
    "#### Importing Libraries"
   ]
  },
  {
   "cell_type": "code",
   "execution_count": null,
   "id": "e06ec705-c25f-4c64-8edf-86974c1c0327",
   "metadata": {},
   "outputs": [],
   "source": [
    "import pandas as pd\n",
    "import numpy as np\n",
    "import matplotlib.pyplot as plt\n",
    "\n",
    "from sklearn.model_selection import train_test_split\n",
    "from sklearn.ensemble import RandomForestClassifier\n",
    "from sklearn.metrics import precision_score, recall_score, confusion_matrix, classification_report, roc_curve, auc\n",
    "\n",
    "import warnings\n",
    "warnings.filterwarnings(\"ignore\")\n",
    "\n",
    "plt.style.use('ggplot')"
   ]
  },
  {
   "cell_type": "markdown",
   "id": "42b0e244-d32a-4efa-bbe4-1f832bc7f4fa",
   "metadata": {},
   "source": [
    "#### Loading the Model Training Dataset"
   ]
  },
  {
   "cell_type": "code",
   "execution_count": 2,
   "id": "53060ac9-e6e1-45c9-85f3-7612ac0af8ce",
   "metadata": {},
   "outputs": [
    {
     "data": {
      "text/html": [
       "<div>\n",
       "<style scoped>\n",
       "    .dataframe tbody tr th:only-of-type {\n",
       "        vertical-align: middle;\n",
       "    }\n",
       "\n",
       "    .dataframe tbody tr th {\n",
       "        vertical-align: top;\n",
       "    }\n",
       "\n",
       "    .dataframe thead th {\n",
       "        text-align: right;\n",
       "    }\n",
       "</style>\n",
       "<table border=\"1\" class=\"dataframe\">\n",
       "  <thead>\n",
       "    <tr style=\"text-align: right;\">\n",
       "      <th></th>\n",
       "      <th>id</th>\n",
       "      <th>title_word_count</th>\n",
       "      <th>document_entropy</th>\n",
       "      <th>freshness</th>\n",
       "      <th>easiness</th>\n",
       "      <th>fraction_stopword_presence</th>\n",
       "      <th>normalization_rate</th>\n",
       "      <th>speaker_speed</th>\n",
       "      <th>silent_period_rate</th>\n",
       "      <th>engagement</th>\n",
       "    </tr>\n",
       "  </thead>\n",
       "  <tbody>\n",
       "    <tr>\n",
       "      <th>0</th>\n",
       "      <td>1</td>\n",
       "      <td>9</td>\n",
       "      <td>7.753995</td>\n",
       "      <td>16310</td>\n",
       "      <td>75.583936</td>\n",
       "      <td>0.553664</td>\n",
       "      <td>0.034049</td>\n",
       "      <td>2.997753</td>\n",
       "      <td>0.0</td>\n",
       "      <td>True</td>\n",
       "    </tr>\n",
       "    <tr>\n",
       "      <th>1</th>\n",
       "      <td>2</td>\n",
       "      <td>6</td>\n",
       "      <td>8.305269</td>\n",
       "      <td>15410</td>\n",
       "      <td>86.870523</td>\n",
       "      <td>0.584498</td>\n",
       "      <td>0.018763</td>\n",
       "      <td>2.635789</td>\n",
       "      <td>0.0</td>\n",
       "      <td>False</td>\n",
       "    </tr>\n",
       "    <tr>\n",
       "      <th>2</th>\n",
       "      <td>3</td>\n",
       "      <td>3</td>\n",
       "      <td>7.965583</td>\n",
       "      <td>15680</td>\n",
       "      <td>81.915968</td>\n",
       "      <td>0.605685</td>\n",
       "      <td>0.030720</td>\n",
       "      <td>2.538095</td>\n",
       "      <td>0.0</td>\n",
       "      <td>False</td>\n",
       "    </tr>\n",
       "    <tr>\n",
       "      <th>3</th>\n",
       "      <td>4</td>\n",
       "      <td>9</td>\n",
       "      <td>8.142877</td>\n",
       "      <td>15610</td>\n",
       "      <td>80.148937</td>\n",
       "      <td>0.593664</td>\n",
       "      <td>0.016873</td>\n",
       "      <td>2.259055</td>\n",
       "      <td>0.0</td>\n",
       "      <td>False</td>\n",
       "    </tr>\n",
       "    <tr>\n",
       "      <th>4</th>\n",
       "      <td>5</td>\n",
       "      <td>9</td>\n",
       "      <td>8.161250</td>\n",
       "      <td>14920</td>\n",
       "      <td>76.907549</td>\n",
       "      <td>0.581637</td>\n",
       "      <td>0.023412</td>\n",
       "      <td>2.420000</td>\n",
       "      <td>0.0</td>\n",
       "      <td>False</td>\n",
       "    </tr>\n",
       "  </tbody>\n",
       "</table>\n",
       "</div>"
      ],
      "text/plain": [
       "   id  title_word_count  document_entropy  freshness   easiness  \\\n",
       "0   1                 9          7.753995      16310  75.583936   \n",
       "1   2                 6          8.305269      15410  86.870523   \n",
       "2   3                 3          7.965583      15680  81.915968   \n",
       "3   4                 9          8.142877      15610  80.148937   \n",
       "4   5                 9          8.161250      14920  76.907549   \n",
       "\n",
       "   fraction_stopword_presence  normalization_rate  speaker_speed  \\\n",
       "0                    0.553664            0.034049       2.997753   \n",
       "1                    0.584498            0.018763       2.635789   \n",
       "2                    0.605685            0.030720       2.538095   \n",
       "3                    0.593664            0.016873       2.259055   \n",
       "4                    0.581637            0.023412       2.420000   \n",
       "\n",
       "   silent_period_rate  engagement  \n",
       "0                 0.0        True  \n",
       "1                 0.0       False  \n",
       "2                 0.0       False  \n",
       "3                 0.0       False  \n",
       "4                 0.0       False  "
      ]
     },
     "execution_count": 2,
     "metadata": {},
     "output_type": "execute_result"
    }
   ],
   "source": [
    "df = pd.read_csv('train.csv')\n",
    "df.head()"
   ]
  },
  {
   "cell_type": "code",
   "execution_count": 3,
   "id": "bbc55c20-0327-4588-a7c3-0c4ecc38e69c",
   "metadata": {},
   "outputs": [],
   "source": [
    "X = df[['id', 'title_word_count', 'document_entropy', 'freshness', 'easiness', 'fraction_stopword_presence',\n",
    "        'normalization_rate', 'speaker_speed', 'silent_period_rate']]\n",
    "y = df['engagement']"
   ]
  },
  {
   "cell_type": "markdown",
   "id": "0989e27b-72c6-41e1-8749-9fe0b067c24c",
   "metadata": {},
   "source": [
    "#### Building Random Forest Classifier Model"
   ]
  },
  {
   "cell_type": "code",
   "execution_count": 4,
   "id": "4f870774-441d-4361-b9e5-957cb93deb02",
   "metadata": {},
   "outputs": [],
   "source": [
    "X_train, X_test, y_train, y_test = train_test_split(X, y, random_state = 0)\n",
    "\n",
    "model = RandomForestClassifier(n_estimators = 10, random_state = 42, max_depth = 10)\n",
    "y_score = model.fit(X_train, y_train).predict_proba(X_test)\n",
    "fpr, tpr, t = roc_curve(y_test, y_score[:, 1])"
   ]
  },
  {
   "cell_type": "markdown",
   "id": "773368e9-ad3b-471a-adf2-aa2a0a5de0ac",
   "metadata": {},
   "source": [
    "#### Assesing ROC Curve and AUC"
   ]
  },
  {
   "cell_type": "code",
   "execution_count": 5,
   "id": "873e630a-d41d-4670-8aa8-6b6bd50cce11",
   "metadata": {},
   "outputs": [
    {
     "data": {
      "image/png": "[encoded data removed]",
      "text/plain": [
       "<Figure size 640x480 with 1 Axes>"
      ]
     },
     "metadata": {},
     "output_type": "display_data"
    }
   ],
   "source": [
    "auc_score = auc(fpr, tpr)\n",
    "\n",
    "plt.plot(fpr, tpr, color = 'steelblue')\n",
    "plt.plot([0, 1], linestyle = '--')\n",
    "plt.title('Receiver Operating Characteristic (ROC) Curve')\n",
    "plt.xlabel('False Positive Rate')\n",
    "plt.ylabel('True Positive Rate')\n",
    "plt.text(0.5, 0.3, 'Area Under the Curve: {:.2f}'.format(auc_score), color = 'green')\n",
    "plt.show()"
   ]
  },
  {
   "cell_type": "markdown",
   "id": "148ecaa4-a250-4294-9280-80cd8f348ac7",
   "metadata": {},
   "source": [
    "#### Loading the Model Testing Dataset"
   ]
  },
  {
   "cell_type": "code",
   "execution_count": 6,
   "id": "d88efee4-1437-4c44-b2c8-bbeadc209400",
   "metadata": {},
   "outputs": [
    {
     "data": {
      "text/html": [
       "<div>\n",
       "<style scoped>\n",
       "    .dataframe tbody tr th:only-of-type {\n",
       "        vertical-align: middle;\n",
       "    }\n",
       "\n",
       "    .dataframe tbody tr th {\n",
       "        vertical-align: top;\n",
       "    }\n",
       "\n",
       "    .dataframe thead th {\n",
       "        text-align: right;\n",
       "    }\n",
       "</style>\n",
       "<table border=\"1\" class=\"dataframe\">\n",
       "  <thead>\n",
       "    <tr style=\"text-align: right;\">\n",
       "      <th></th>\n",
       "      <th>id</th>\n",
       "      <th>title_word_count</th>\n",
       "      <th>document_entropy</th>\n",
       "      <th>freshness</th>\n",
       "      <th>easiness</th>\n",
       "      <th>fraction_stopword_presence</th>\n",
       "      <th>normalization_rate</th>\n",
       "      <th>speaker_speed</th>\n",
       "      <th>silent_period_rate</th>\n",
       "    </tr>\n",
       "  </thead>\n",
       "  <tbody>\n",
       "    <tr>\n",
       "      <th>0</th>\n",
       "      <td>9240</td>\n",
       "      <td>6</td>\n",
       "      <td>8.548351</td>\n",
       "      <td>14140</td>\n",
       "      <td>89.827395</td>\n",
       "      <td>0.640810</td>\n",
       "      <td>0.017945</td>\n",
       "      <td>2.262723</td>\n",
       "      <td>0.000000</td>\n",
       "    </tr>\n",
       "    <tr>\n",
       "      <th>1</th>\n",
       "      <td>9241</td>\n",
       "      <td>8</td>\n",
       "      <td>7.730110</td>\n",
       "      <td>14600</td>\n",
       "      <td>82.446667</td>\n",
       "      <td>0.606738</td>\n",
       "      <td>0.027708</td>\n",
       "      <td>2.690351</td>\n",
       "      <td>0.000000</td>\n",
       "    </tr>\n",
       "    <tr>\n",
       "      <th>2</th>\n",
       "      <td>9242</td>\n",
       "      <td>3</td>\n",
       "      <td>8.200887</td>\n",
       "      <td>16980</td>\n",
       "      <td>88.821542</td>\n",
       "      <td>0.621089</td>\n",
       "      <td>0.009857</td>\n",
       "      <td>3.116071</td>\n",
       "      <td>0.000000</td>\n",
       "    </tr>\n",
       "    <tr>\n",
       "      <th>3</th>\n",
       "      <td>9243</td>\n",
       "      <td>5</td>\n",
       "      <td>6.377299</td>\n",
       "      <td>16260</td>\n",
       "      <td>86.874660</td>\n",
       "      <td>0.600000</td>\n",
       "      <td>0.004348</td>\n",
       "      <td>2.837500</td>\n",
       "      <td>0.017994</td>\n",
       "    </tr>\n",
       "    <tr>\n",
       "      <th>4</th>\n",
       "      <td>9244</td>\n",
       "      <td>18</td>\n",
       "      <td>7.756530</td>\n",
       "      <td>14030</td>\n",
       "      <td>88.872277</td>\n",
       "      <td>0.616105</td>\n",
       "      <td>0.033240</td>\n",
       "      <td>1.354839</td>\n",
       "      <td>0.000000</td>\n",
       "    </tr>\n",
       "  </tbody>\n",
       "</table>\n",
       "</div>"
      ],
      "text/plain": [
       "     id  title_word_count  document_entropy  freshness   easiness  \\\n",
       "0  9240                 6          8.548351      14140  89.827395   \n",
       "1  9241                 8          7.730110      14600  82.446667   \n",
       "2  9242                 3          8.200887      16980  88.821542   \n",
       "3  9243                 5          6.377299      16260  86.874660   \n",
       "4  9244                18          7.756530      14030  88.872277   \n",
       "\n",
       "   fraction_stopword_presence  normalization_rate  speaker_speed  \\\n",
       "0                    0.640810            0.017945       2.262723   \n",
       "1                    0.606738            0.027708       2.690351   \n",
       "2                    0.621089            0.009857       3.116071   \n",
       "3                    0.600000            0.004348       2.837500   \n",
       "4                    0.616105            0.033240       1.354839   \n",
       "\n",
       "   silent_period_rate  \n",
       "0            0.000000  \n",
       "1            0.000000  \n",
       "2            0.000000  \n",
       "3            0.017994  \n",
       "4            0.000000  "
      ]
     },
     "execution_count": 6,
     "metadata": {},
     "output_type": "execute_result"
    }
   ],
   "source": [
    "test_df = pd.read_csv('test.csv')\n",
    "test_df = test_df[['id', 'title_word_count', 'document_entropy', 'freshness', 'easiness', 'fraction_stopword_presence',\n",
    "                   'normalization_rate', 'speaker_speed', 'silent_period_rate']]\n",
    "test_df.head()"
   ]
  },
  {
   "cell_type": "markdown",
   "id": "5887736d-62e3-473c-99bb-d17bfd704a99",
   "metadata": {},
   "source": [
    "#### Prediction Scores"
   ]
  },
  {
   "cell_type": "code",
   "execution_count": 8,
   "id": "5d3c4fcc-f866-418f-82a2-ca099e5d2b7f",
   "metadata": {},
   "outputs": [
    {
     "data": {
      "text/plain": [
       "id\n",
       "9240     0.016739\n",
       "9241     0.039588\n",
       "9242     0.158212\n",
       "9243     0.583120\n",
       "9244     0.012369\n",
       "           ...   \n",
       "11544    0.025847\n",
       "11545    0.001591\n",
       "11546    0.006038\n",
       "11547    0.760454\n",
       "11548    0.025885\n",
       "Length: 2309, dtype: float64"
      ]
     },
     "execution_count": 8,
     "metadata": {},
     "output_type": "execute_result"
    }
   ],
   "source": [
    "pred_scores = model.predict_proba(test_df)[:, 1]\n",
    "test_scores = pd.Series(pred_scores, index = test_df['id'])\n",
    "\n",
    "test_scores"
   ]
  },
  {
   "cell_type": "markdown",
   "id": "726736ce-2b4f-47b3-b447-c9f3ca070463",
   "metadata": {},
   "source": [
    "#### Accuracy Scores"
   ]
  },
  {
   "cell_type": "code",
   "execution_count": 12,
   "id": "8abf0ab2-7529-4c73-805a-0649d6a7b6c2",
   "metadata": {},
   "outputs": [
    {
     "name": "stdout",
     "output_type": "stream",
     "text": [
      "Training Accuracy of Model: 96.90%\n",
      "Testing Accuracy of Model: 92.55%\n"
     ]
    }
   ],
   "source": [
    "X_train, X_test, y_train, y_test = train_test_split(X, y, random_state = 0)\n",
    "model = RandomForestClassifier(n_estimators = 10, random_state = 42, max_depth = 10).fit(X_train, y_train)\n",
    "\n",
    "print('Training Accuracy of Model: {:.2f}%'.format(model.score(X_train, y_train)*100))\n",
    "print('Testing Accuracy of Model: {:.2f}%'.format(model.score(X_test, y_test)*100))"
   ]
  },
  {
   "cell_type": "markdown",
   "id": "db456f31-ac26-4a5d-aa44-d11c1941be59",
   "metadata": {},
   "source": [
    "#### Sample Prediction"
   ]
  },
  {
   "cell_type": "code",
   "execution_count": 16,
   "id": "48859f64-f163-44b2-9cc3-0c26ebfa2917",
   "metadata": {},
   "outputs": [
    {
     "name": "stdout",
     "output_type": "stream",
     "text": [
      "The learner has watched a substantial portion of the video and it was engaging enough.\n"
     ]
    }
   ],
   "source": [
    "engagement = model.predict([[34, 7, 7.11583, 19680, 91.915968, 0.6185, 0.010720, 1.538095, 0.0]])\n",
    "\n",
    "if engagement[0] == True:\n",
    "    print('The learner has watched a substantial portion of the video and it was engaging enough.')\n",
    "else:\n",
    "    print('The video was not engaging enough for the learner and has not watched much of it.')"
   ]
  }
 ],
 "metadata": {
  "kernelspec": {
   "display_name": "Python 3 (ipykernel)",
   "language": "python",
   "name": "python3"
  },
  "language_info": {
   "codemirror_mode": {
    "name": "ipython",
    "version": 3
   },
   "file_extension": ".py",
   "mimetype": "text/x-python",
   "name": "python",
   "nbconvert_exporter": "python",
   "pygments_lexer": "ipython3",
   "version": "3.10.4"
  }
 },
 "nbformat": 4,
 "nbformat_minor": 5
}
