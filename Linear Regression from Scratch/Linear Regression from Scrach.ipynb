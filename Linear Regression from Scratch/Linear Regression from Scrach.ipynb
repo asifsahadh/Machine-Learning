{
 "cells": [
  {
   "cell_type": "markdown",
   "id": "c95b33fe-912a-43ab-83f1-e619a9e0d547",
   "metadata": {},
   "source": [
    "#### To predict the Test Score of a student that spends a certain number of Hours watching TV"
   ]
  },
  {
   "cell_type": "code",
   "execution_count": 84,
   "id": "6a787c1c-4aff-465b-aae9-9e5414f8c54c",
   "metadata": {},
   "outputs": [],
   "source": [
    "# importing libraries\n",
    "\n",
    "import pandas as pd\n",
    "import numpy as np\n",
    "import matplotlib.pyplot as plt\n",
    "plt.style.use(\"ggplot\")"
   ]
  },
  {
   "cell_type": "code",
   "execution_count": 85,
   "id": "5bd4c4a0-24a0-4bbb-ad4d-0df88f94b250",
   "metadata": {},
   "outputs": [],
   "source": [
    "# sample dataset\n",
    "\n",
    "df = pd.DataFrame({\n",
    "    \"Hours\" : [0, 1, 2, 3, 3, 5, 5, 5, 6, 7, 7, 10],\n",
    "    \"Test Scores\" : [96, 85, 82, 74, 95, 68, 76, 84, 58, 65, 75, 50]\n",
    "})\n",
    "\n",
    "df_ori = df.copy() # to use later"
   ]
  },
  {
   "cell_type": "code",
   "execution_count": 32,
   "id": "60cf3b27-e8b8-4564-a258-213726cc54a7",
   "metadata": {},
   "outputs": [
    {
     "data": {
      "text/html": [
       "<div>\n",
       "<style scoped>\n",
       "    .dataframe tbody tr th:only-of-type {\n",
       "        vertical-align: middle;\n",
       "    }\n",
       "\n",
       "    .dataframe tbody tr th {\n",
       "        vertical-align: top;\n",
       "    }\n",
       "\n",
       "    .dataframe thead th {\n",
       "        text-align: right;\n",
       "    }\n",
       "</style>\n",
       "<table border=\"1\" class=\"dataframe\">\n",
       "  <thead>\n",
       "    <tr style=\"text-align: right;\">\n",
       "      <th></th>\n",
       "      <th>Hours</th>\n",
       "      <th>Test Scores</th>\n",
       "    </tr>\n",
       "  </thead>\n",
       "  <tbody>\n",
       "    <tr>\n",
       "      <th>0</th>\n",
       "      <td>0</td>\n",
       "      <td>96</td>\n",
       "    </tr>\n",
       "    <tr>\n",
       "      <th>1</th>\n",
       "      <td>1</td>\n",
       "      <td>85</td>\n",
       "    </tr>\n",
       "    <tr>\n",
       "      <th>2</th>\n",
       "      <td>2</td>\n",
       "      <td>82</td>\n",
       "    </tr>\n",
       "    <tr>\n",
       "      <th>3</th>\n",
       "      <td>3</td>\n",
       "      <td>74</td>\n",
       "    </tr>\n",
       "    <tr>\n",
       "      <th>4</th>\n",
       "      <td>3</td>\n",
       "      <td>95</td>\n",
       "    </tr>\n",
       "  </tbody>\n",
       "</table>\n",
       "</div>"
      ],
      "text/plain": [
       "   Hours  Test Scores\n",
       "0      0           96\n",
       "1      1           85\n",
       "2      2           82\n",
       "3      3           74\n",
       "4      3           95"
      ]
     },
     "execution_count": 32,
     "metadata": {},
     "output_type": "execute_result"
    }
   ],
   "source": [
    "df.head()"
   ]
  },
  {
   "cell_type": "markdown",
   "id": "9296dd52-9776-4b3b-b210-70e42c811aa3",
   "metadata": {},
   "source": [
    "Here, 'Hours' is the independendant variable X and 'Test Scores' is the dependent variable Y. Next, we need to find the correlation coefficient. The formula to find it is as follows:\n",
    "<br><br>\n",
    "<img src=\"corr coeff.jpg\" alt=\"Test Scores vs Hours\" width=\"350\" height=\"300\">"
   ]
  },
  {
   "cell_type": "code",
   "execution_count": 33,
   "id": "bc4575da-9e89-4820-a044-7dd0e63ba108",
   "metadata": {},
   "outputs": [],
   "source": [
    "df[\"xy\"] = df[\"Hours\"] * df[\"Test Scores\"]\n",
    "df[\"x^2\"] = df[\"Hours\"] ** 2\n",
    "df[\"y^2\"] = df[\"Test Scores\"] ** 2"
   ]
  },
  {
   "cell_type": "code",
   "execution_count": 34,
   "id": "6e2526d5-03d8-4882-9f96-bd063c479028",
   "metadata": {},
   "outputs": [
    {
     "data": {
      "text/html": [
       "<div>\n",
       "<style scoped>\n",
       "    .dataframe tbody tr th:only-of-type {\n",
       "        vertical-align: middle;\n",
       "    }\n",
       "\n",
       "    .dataframe tbody tr th {\n",
       "        vertical-align: top;\n",
       "    }\n",
       "\n",
       "    .dataframe thead th {\n",
       "        text-align: right;\n",
       "    }\n",
       "</style>\n",
       "<table border=\"1\" class=\"dataframe\">\n",
       "  <thead>\n",
       "    <tr style=\"text-align: right;\">\n",
       "      <th></th>\n",
       "      <th>Hours</th>\n",
       "      <th>Test Scores</th>\n",
       "      <th>xy</th>\n",
       "      <th>x^2</th>\n",
       "      <th>y^2</th>\n",
       "    </tr>\n",
       "  </thead>\n",
       "  <tbody>\n",
       "    <tr>\n",
       "      <th>0</th>\n",
       "      <td>0</td>\n",
       "      <td>96</td>\n",
       "      <td>0</td>\n",
       "      <td>0</td>\n",
       "      <td>9216</td>\n",
       "    </tr>\n",
       "    <tr>\n",
       "      <th>1</th>\n",
       "      <td>1</td>\n",
       "      <td>85</td>\n",
       "      <td>85</td>\n",
       "      <td>1</td>\n",
       "      <td>7225</td>\n",
       "    </tr>\n",
       "    <tr>\n",
       "      <th>2</th>\n",
       "      <td>2</td>\n",
       "      <td>82</td>\n",
       "      <td>164</td>\n",
       "      <td>4</td>\n",
       "      <td>6724</td>\n",
       "    </tr>\n",
       "    <tr>\n",
       "      <th>3</th>\n",
       "      <td>3</td>\n",
       "      <td>74</td>\n",
       "      <td>222</td>\n",
       "      <td>9</td>\n",
       "      <td>5476</td>\n",
       "    </tr>\n",
       "    <tr>\n",
       "      <th>4</th>\n",
       "      <td>3</td>\n",
       "      <td>95</td>\n",
       "      <td>285</td>\n",
       "      <td>9</td>\n",
       "      <td>9025</td>\n",
       "    </tr>\n",
       "  </tbody>\n",
       "</table>\n",
       "</div>"
      ],
      "text/plain": [
       "   Hours  Test Scores   xy  x^2   y^2\n",
       "0      0           96    0    0  9216\n",
       "1      1           85   85    1  7225\n",
       "2      2           82  164    4  6724\n",
       "3      3           74  222    9  5476\n",
       "4      3           95  285    9  9025"
      ]
     },
     "execution_count": 34,
     "metadata": {},
     "output_type": "execute_result"
    }
   ],
   "source": [
    "df.head()"
   ]
  },
  {
   "cell_type": "code",
   "execution_count": 35,
   "id": "4a253f4d-6e54-47f4-bedd-9f2400792f30",
   "metadata": {},
   "outputs": [],
   "source": [
    "n = len(df)\n",
    "\n",
    "sum_xy = sum(df[\"xy\"])\n",
    "\n",
    "sum_x = sum(df[\"Hours\"])\n",
    "sum_y = sum(df[\"Test Scores\"])\n",
    "\n",
    "sum_x_sq = sum(df[\"x^2\"])\n",
    "sum_x_whole_sq = sum_x ** 2\n",
    "\n",
    "sum_y_sq = sum(df[\"y^2\"])\n",
    "sum_y_whole_sq = sum_y ** 2"
   ]
  },
  {
   "cell_type": "markdown",
   "id": "0a03af84-6990-4588-b079-ae94ea7a0f1d",
   "metadata": {},
   "source": [
    "Now that we have all the values, we can find the correlation coefficient."
   ]
  },
  {
   "cell_type": "code",
   "execution_count": 36,
   "id": "e01ec94e-c943-4a3e-bc52-d00b9c96717f",
   "metadata": {},
   "outputs": [
    {
     "name": "stdout",
     "output_type": "stream",
     "text": [
      "Correlation Coefficient = -0.8313\n"
     ]
    }
   ],
   "source": [
    "# correlation coefficient calculation\n",
    "\n",
    "r = ((n * sum_xy) - (sum_x * sum_y)) / ((((n * sum_x_sq) - sum_x_whole_sq) ** 0.5) * (((n * sum_y_sq) - sum_y_whole_sq) ** 0.5))\n",
    "\n",
    "print(\"Correlation Coefficient = {:.4f}\".format(r))"
   ]
  },
  {
   "cell_type": "markdown",
   "id": "c2e80675-5345-4622-bc9a-5137bb7bca5e",
   "metadata": {},
   "source": [
    "The correlation is strongly negative. This suggests that as the number of hours spent watching TV increase, test scores decrease. Next, we plot a regression line by calculating the slope and y-intercept. The formula of the regression line where m is the slope and c is the y-intercept is as follows:\n",
    "<br><br>\n",
    "<img src=\"line.png\" alt=\"Test Scores vs Hours\" width=\"130\" height=\"300\">\n",
    "<br><br>\n",
    "The formula for caculating the slope will be:\n",
    "<br><br>\n",
    "<img src=\"slope.png\" alt=\"Test Scores vs Hours\" width=\"250\" height=\"300\">\n",
    "<br><br>\n",
    "And finally, the y-intercept can be calculated using the following formula:\n",
    "<br><br>\n",
    "<img src=\"y intercept.png\" alt=\"Test Scores vs Hours\" width=\"110\" height=\"300\">"
   ]
  },
  {
   "cell_type": "code",
   "execution_count": 87,
   "id": "bcf77d91-7dc0-4573-9b03-e5b8438fad94",
   "metadata": {},
   "outputs": [
    {
     "name": "stdout",
     "output_type": "stream",
     "text": [
      "Slope = -4.07\n"
     ]
    }
   ],
   "source": [
    "# slope calculation\n",
    "\n",
    "m = ((n * sum_xy) - (sum_x * sum_y)) / ((n * sum_x_sq) - sum_x_whole_sq)\n",
    "\n",
    "print(\"Slope = {:.2f}\".format(m))"
   ]
  },
  {
   "cell_type": "code",
   "execution_count": 86,
   "id": "b26d8230-f7d5-42bc-adc1-256828446cf4",
   "metadata": {},
   "outputs": [
    {
     "name": "stdout",
     "output_type": "stream",
     "text": [
      "Y-Intercept = 93.97\n"
     ]
    }
   ],
   "source": [
    "# y-intercept calcultaion\n",
    "\n",
    "b = (sum_y / n) - (m * (sum_x / n))\n",
    "\n",
    "print(\"Y-Intercept = {:.2f}\".format(b))"
   ]
  },
  {
   "cell_type": "markdown",
   "id": "f9fd574e-586c-4b8c-8991-9a449262063a",
   "metadata": {},
   "source": [
    "Now that we have the slope and y-intercept, we can plot a graph to visualize how this looks."
   ]
  },
  {
   "cell_type": "code",
   "execution_count": 83,
   "id": "5afb08cd-d980-4ea3-8382-8b1232b81415",
   "metadata": {},
   "outputs": [
    {
     "data": {
      "image/png": "[encoded data removed]",
      "text/plain": [
       "<Figure size 500x400 with 1 Axes>"
      ]
     },
     "metadata": {},
     "output_type": "display_data"
    }
   ],
   "source": [
    "x_line = np.linspace(min(df[\"Hours\"]), max(df[\"Hours\"]), 100)\n",
    "y_line = m * x_line + b\n",
    "\n",
    "plt.figure(figsize=(5, 4))\n",
    "plt.scatter(df_ori[\"Hours\"], df_ori[\"Test Scores\"], color = \"#3751A1\", label = \"Data Points\")\n",
    "plt.plot(x_line, y_line, color = \"#006400\", label = \"Regression Line\")\n",
    "plt.xlabel(\"Hours\")\n",
    "plt.ylabel(\"Test Scores\")\n",
    "plt.title(\"Test Scores vs Hours\")\n",
    "plt.legend()\n",
    "plt.show()"
   ]
  },
  {
   "cell_type": "markdown",
   "id": "ab72f0cd-a721-4812-ac3e-f12a4b0111de",
   "metadata": {},
   "source": [
    "We can use the line equation to predict the test score of a student who spends 'x' hours watching TV. Let the number of hours be 9. Then:"
   ]
  },
  {
   "cell_type": "code",
   "execution_count": 80,
   "id": "bb5bbfd4-7910-46ca-b1f8-4c78182f94e1",
   "metadata": {},
   "outputs": [
    {
     "name": "stdout",
     "output_type": "stream",
     "text": [
      "The Test Score of a Student that spends 9 hours spending TV is predicted to be 57.36\n"
     ]
    }
   ],
   "source": [
    "x = 9 # number of hours\n",
    "y_hat = m * x + b\n",
    "\n",
    "print(\"The Test Score of a Student that spends {} hours spending TV is predicted to be {:.2f}\".format(x, y_hat))"
   ]
  }
 ],
 "metadata": {
  "kernelspec": {
   "display_name": "Python 3 (ipykernel)",
   "language": "python",
   "name": "python3"
  },
  "language_info": {
   "codemirror_mode": {
    "name": "ipython",
    "version": 3
   },
   "file_extension": ".py",
   "mimetype": "text/x-python",
   "name": "python",
   "nbconvert_exporter": "python",
   "pygments_lexer": "ipython3",
   "version": "3.12.4"
  }
 },
 "nbformat": 4,
 "nbformat_minor": 5
}
