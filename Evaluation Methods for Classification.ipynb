{
 "cells": [
  {
   "cell_type": "markdown",
   "id": "6b5d3f50",
   "metadata": {},
   "source": [
    "# Evaluation Methods for Classification"
   ]
  },
  {
   "cell_type": "markdown",
   "id": "f8dde7bf-6836-4388-ada0-0b1e259c5648",
   "metadata": {},
   "source": [
    "When building a machine learning model, a common approach on assessing the models performance is to get the models accuracy score. Even though this can be a good metric to asses the model performance, it ignores certain key model performance factor such as the presence of false positives and false negatives, knowing what fraction of the positive predictions are actually correct (precision)  and so on.\n",
    "\n",
    "In this notebook, several key evaluation metrics used in classification is walked through using the digits dataset but binarized. The goal is to enhance the overall performance of the model and several evaluation metrics such as the confusion matrix, accuracy score, precision score, recall score, f1 score, classification report, roc curve, auc, grid search and cross validation will be utilised"
   ]
  },
  {
   "cell_type": "markdown",
   "id": "9786c89a-abd7-480b-ae2c-0eb4a3ae49d6",
   "metadata": {},
   "source": [
    "#### Importing Libraries"
   ]
  },
  {
   "cell_type": "code",
   "execution_count": 28,
   "id": "c7188d9c",
   "metadata": {},
   "outputs": [],
   "source": [
    "%matplotlib inline\n",
    "import numpy as np\n",
    "import pandas as pd\n",
    "import seaborn as sns\n",
    "import matplotlib.pyplot as plt\n",
    "from sklearn.model_selection import train_test_split\n",
    "from sklearn.datasets import load_digits\n",
    "from sklearn.metrics import confusion_matrix, classification_report, precision_score\n",
    "import warnings\n",
    "warnings.filterwarnings('ignore')"
   ]
  },
  {
   "cell_type": "markdown",
   "id": "c94773b3-250e-4729-8cb7-8a1ed5698088",
   "metadata": {},
   "source": [
    "#### Loading Dataset"
   ]
  },
  {
   "cell_type": "code",
   "execution_count": 29,
   "id": "f98f06fa",
   "metadata": {},
   "outputs": [],
   "source": [
    "# digits dataset\n",
    "\n",
    "dataset = load_digits()\n",
    "X, y = dataset.data, dataset.target"
   ]
  },
  {
   "cell_type": "code",
   "execution_count": 30,
   "id": "560dc082",
   "metadata": {},
   "outputs": [
    {
     "name": "stdout",
     "output_type": "stream",
     "text": [
      "0 178\n",
      "1 182\n",
      "2 177\n",
      "3 183\n",
      "4 181\n",
      "5 182\n",
      "6 181\n",
      "7 179\n",
      "8 174\n",
      "9 180\n"
     ]
    }
   ],
   "source": [
    "for class_label, class_count in zip(dataset.target_names, np.bincount(dataset.target)):\n",
    "    print(class_label, class_count)"
   ]
  },
  {
   "cell_type": "code",
   "execution_count": 31,
   "id": "bd7086af",
   "metadata": {},
   "outputs": [
    {
     "name": "stdout",
     "output_type": "stream",
     "text": [
      "Original: [0 1 2 3 4 5 6 7 8 9 0 1 2 3 4 5 6 7 8 9]\n",
      "Binary Labels: [0 1 0 0 0 0 0 0 0 0 0 1 0 0 0 0 0 0 0 0]\n"
     ]
    }
   ],
   "source": [
    "# binarizing the dataset as 1 and not 1\n",
    "\n",
    "y_binary_imbalanced = y.copy()\n",
    "y_binary_imbalanced[y_binary_imbalanced != 1] = 0\n",
    "print('Original:', y[0:20])\n",
    "print('Binary Labels:', y_binary_imbalanced[0:20])"
   ]
  },
  {
   "cell_type": "code",
   "execution_count": 42,
   "id": "3d4e7ba5",
   "metadata": {},
   "outputs": [
    {
     "name": "stdout",
     "output_type": "stream",
     "text": [
      "Count of 0: 1615\n",
      "Count of 1: 182\n"
     ]
    }
   ],
   "source": [
    "# count of elements\n",
    "\n",
    "bin_count = np.bincount(y_binary_imbalanced)\n",
    "print('Count of 0:', x[0])\n",
    "print('Count of 1:', x[1])"
   ]
  },
  {
   "cell_type": "markdown",
   "id": "785cdf99-8f51-459a-a90e-fdd472234327",
   "metadata": {},
   "source": [
    "#### Implementing Model Support Vector Machine"
   ]
  },
  {
   "cell_type": "code",
   "execution_count": 40,
   "id": "28cee908",
   "metadata": {},
   "outputs": [
    {
     "name": "stdout",
     "output_type": "stream",
     "text": [
      "Accuracy of Model: 98%\n"
     ]
    }
   ],
   "source": [
    "X_train, X_test, y_train, y_test = train_test_split(X, y_binary_imbalanced, random_state = 0)\n",
    "\n",
    "from sklearn.svm import SVC\n",
    "\n",
    "svm = SVC(kernel = 'linear', C = 1).fit(X_train, y_train)\n",
    "print('Accuracy of Model: {:.0f}%'.format(svm.score(X_test, y_test)*100))"
   ]
  },
  {
   "cell_type": "code",
   "execution_count": 7,
   "id": "93aec3f8",
   "metadata": {},
   "outputs": [
    {
     "data": {
      "text/plain": [
       "array([0, 0, 0, 0, 0, 0, 1, 0, 0, 0, 0, 0, 0, 0, 0, 0, 1, 0, 0, 0, 0, 0,\n",
       "       0, 0, 0, 0, 0, 0, 0, 0, 0, 0, 0, 0, 0, 0, 0, 0, 0, 1, 0, 0, 0, 0,\n",
       "       0, 0, 0, 0, 0, 1, 0, 0, 0, 0, 0, 0, 0, 1, 0, 0, 0, 0, 0, 0, 1, 0,\n",
       "       0, 0, 0, 1, 0, 0, 0, 1, 0, 1, 0, 0, 0, 0, 1, 0, 0, 0, 0, 0, 0, 0,\n",
       "       1, 0, 0, 0, 0, 1, 0, 0, 0, 0, 0, 0, 0, 0, 0, 0, 0, 0, 0, 1, 0, 0,\n",
       "       0, 0, 0, 0, 0, 0, 0, 0, 0, 0, 0, 0, 0, 0, 0, 0, 0, 0, 1, 0, 0, 0,\n",
       "       0, 0, 0, 0, 0, 0, 0, 0, 0, 0, 0, 0, 0, 1, 0, 1, 0, 0, 0, 1, 0, 0,\n",
       "       0, 1, 0, 0, 0, 0, 0, 0, 0, 0, 0, 0, 0, 0, 0, 0, 0, 1, 0, 0, 1, 0,\n",
       "       0, 0, 0, 0, 0, 0, 0, 0, 0, 0, 0, 0, 0, 0, 0, 0, 0, 0, 0, 0, 1, 0,\n",
       "       0, 0, 0, 0, 1, 0, 0, 0, 0, 0, 0, 0, 0, 0, 0, 0, 0, 0, 1, 0, 0, 0,\n",
       "       0, 0, 0, 0, 0, 0, 0, 0, 0, 1, 0, 0, 0, 0, 0, 0, 0, 0, 0, 0, 1, 1,\n",
       "       0, 0, 0, 0, 0, 0, 0, 0, 0, 0, 0, 0, 0, 0, 0, 0, 0, 0, 0, 1, 0, 0,\n",
       "       0, 0, 0, 0, 0, 0, 0, 0, 0, 0, 0, 0, 0, 0, 0, 0, 0, 0, 0, 0, 0, 0,\n",
       "       0, 0, 0, 0, 0, 0, 0, 0, 0, 0, 0, 0, 0, 0, 0, 0, 0, 0, 0, 0, 0, 0,\n",
       "       0, 0, 0, 0, 0, 0, 0, 0, 0, 0, 0, 0, 0, 0, 0, 0, 0, 1, 0, 1, 0, 0,\n",
       "       0, 0, 0, 0, 0, 0, 0, 0, 0, 1, 0, 1, 0, 0, 0, 0, 0, 0, 1, 1, 0, 0,\n",
       "       0, 0, 0, 0, 0, 0, 0, 0, 0, 0, 0, 0, 0, 0, 0, 0, 0, 0, 0, 0, 0, 0,\n",
       "       0, 0, 0, 0, 0, 0, 1, 0, 0, 0, 0, 0, 0, 0, 0, 0, 0, 0, 0, 0, 0, 0,\n",
       "       0, 0, 1, 0, 1, 0, 0, 0, 0, 0, 0, 0, 1, 0, 0, 0, 0, 0, 0, 0, 1, 0,\n",
       "       0, 0, 1, 0, 0, 0, 0, 0, 0, 0, 0, 0, 0, 0, 0, 0, 1, 0, 0, 0, 0, 0,\n",
       "       0, 1, 0, 0, 1, 0, 0, 0, 1, 0])"
      ]
     },
     "execution_count": 7,
     "metadata": {},
     "output_type": "execute_result"
    }
   ],
   "source": [
    "# predicting test values\n",
    "\n",
    "svm_y_pred = svm.predict(X_test)\n",
    "svm_y_pred"
   ]
  },
  {
   "cell_type": "markdown",
   "id": "c186e9f6",
   "metadata": {},
   "source": [
    "## Confusion Matrices"
   ]
  },
  {
   "cell_type": "code",
   "execution_count": 8,
   "id": "104cb81c",
   "metadata": {},
   "outputs": [
    {
     "name": "stdout",
     "output_type": "stream",
     "text": [
      "[[402   5]\n",
      " [  5  38]]\n"
     ]
    }
   ],
   "source": [
    "print(confusion_matrix(y_test, svm_y_pred))"
   ]
  },
  {
   "cell_type": "markdown",
   "id": "3fa75fc5-495e-422c-9867-589e6f2381ae",
   "metadata": {},
   "source": [
    "## Classification Report"
   ]
  },
  {
   "cell_type": "code",
   "execution_count": 9,
   "id": "224ec77e",
   "metadata": {},
   "outputs": [
    {
     "name": "stdout",
     "output_type": "stream",
     "text": [
      "              precision    recall  f1-score   support\n",
      "\n",
      "       not 1       0.99      0.99      0.99       407\n",
      "           1       0.88      0.88      0.88        43\n",
      "\n",
      "    accuracy                           0.98       450\n",
      "   macro avg       0.94      0.94      0.94       450\n",
      "weighted avg       0.98      0.98      0.98       450\n",
      "\n"
     ]
    }
   ],
   "source": [
    "print(classification_report(y_test, svm_y_pred, target_names = ['not 1', '1']))"
   ]
  },
  {
   "cell_type": "markdown",
   "id": "ab35d59b-a04e-4b99-a65b-a7021fc62351",
   "metadata": {},
   "source": [
    "## Precision-Recall Curves"
   ]
  },
  {
   "cell_type": "code",
   "execution_count": 10,
   "id": "ce3a4b9c-834f-4570-b67c-ab8df1231545",
   "metadata": {},
   "outputs": [
    {
     "data": {
      "text/html": [
       "<style>#sk-container-id-1 {color: black;background-color: white;}#sk-container-id-1 pre{padding: 0;}#sk-container-id-1 div.sk-toggleable {background-color: white;}#sk-container-id-1 label.sk-toggleable__label {cursor: pointer;display: block;width: 100%;margin-bottom: 0;padding: 0.3em;box-sizing: border-box;text-align: center;}#sk-container-id-1 label.sk-toggleable__label-arrow:before {content: \"▸\";float: left;margin-right: 0.25em;color: #696969;}#sk-container-id-1 label.sk-toggleable__label-arrow:hover:before {color: black;}#sk-container-id-1 div.sk-estimator:hover label.sk-toggleable__label-arrow:before {color: black;}#sk-container-id-1 div.sk-toggleable__content {max-height: 0;max-width: 0;overflow: hidden;text-align: left;background-color: #f0f8ff;}#sk-container-id-1 div.sk-toggleable__content pre {margin: 0.2em;color: black;border-radius: 0.25em;background-color: #f0f8ff;}#sk-container-id-1 input.sk-toggleable__control:checked~div.sk-toggleable__content {max-height: 200px;max-width: 100%;overflow: auto;}#sk-container-id-1 input.sk-toggleable__control:checked~label.sk-toggleable__label-arrow:before {content: \"▾\";}#sk-container-id-1 div.sk-estimator input.sk-toggleable__control:checked~label.sk-toggleable__label {background-color: #d4ebff;}#sk-container-id-1 div.sk-label input.sk-toggleable__control:checked~label.sk-toggleable__label {background-color: #d4ebff;}#sk-container-id-1 input.sk-hidden--visually {border: 0;clip: rect(1px 1px 1px 1px);clip: rect(1px, 1px, 1px, 1px);height: 1px;margin: -1px;overflow: hidden;padding: 0;position: absolute;width: 1px;}#sk-container-id-1 div.sk-estimator {font-family: monospace;background-color: #f0f8ff;border: 1px dotted black;border-radius: 0.25em;box-sizing: border-box;margin-bottom: 0.5em;}#sk-container-id-1 div.sk-estimator:hover {background-color: #d4ebff;}#sk-container-id-1 div.sk-parallel-item::after {content: \"\";width: 100%;border-bottom: 1px solid gray;flex-grow: 1;}#sk-container-id-1 div.sk-label:hover label.sk-toggleable__label {background-color: #d4ebff;}#sk-container-id-1 div.sk-serial::before {content: \"\";position: absolute;border-left: 1px solid gray;box-sizing: border-box;top: 0;bottom: 0;left: 50%;z-index: 0;}#sk-container-id-1 div.sk-serial {display: flex;flex-direction: column;align-items: center;background-color: white;padding-right: 0.2em;padding-left: 0.2em;position: relative;}#sk-container-id-1 div.sk-item {position: relative;z-index: 1;}#sk-container-id-1 div.sk-parallel {display: flex;align-items: stretch;justify-content: center;background-color: white;position: relative;}#sk-container-id-1 div.sk-item::before, #sk-container-id-1 div.sk-parallel-item::before {content: \"\";position: absolute;border-left: 1px solid gray;box-sizing: border-box;top: 0;bottom: 0;left: 50%;z-index: -1;}#sk-container-id-1 div.sk-parallel-item {display: flex;flex-direction: column;z-index: 1;position: relative;background-color: white;}#sk-container-id-1 div.sk-parallel-item:first-child::after {align-self: flex-end;width: 50%;}#sk-container-id-1 div.sk-parallel-item:last-child::after {align-self: flex-start;width: 50%;}#sk-container-id-1 div.sk-parallel-item:only-child::after {width: 0;}#sk-container-id-1 div.sk-dashed-wrapped {border: 1px dashed gray;margin: 0 0.4em 0.5em 0.4em;box-sizing: border-box;padding-bottom: 0.4em;background-color: white;}#sk-container-id-1 div.sk-label label {font-family: monospace;font-weight: bold;display: inline-block;line-height: 1.2em;}#sk-container-id-1 div.sk-label-container {text-align: center;}#sk-container-id-1 div.sk-container {/* jupyter's `normalize.less` sets `[hidden] { display: none; }` but bootstrap.min.css set `[hidden] { display: none !important; }` so we also need the `!important` here to be able to override the default hidden behavior on the sphinx rendered scikit-learn.org. See: https://github.com/scikit-learn/scikit-learn/issues/21755 */display: inline-block !important;position: relative;}#sk-container-id-1 div.sk-text-repr-fallback {display: none;}</style><div id=\"sk-container-id-1\" class=\"sk-top-container\"><div class=\"sk-text-repr-fallback\"><pre>LogisticRegression(max_iter=1000)</pre><b>In a Jupyter environment, please rerun this cell to show the HTML representation or trust the notebook. <br />On GitHub, the HTML representation is unable to render, please try loading this page with nbviewer.org.</b></div><div class=\"sk-container\" hidden><div class=\"sk-item\"><div class=\"sk-estimator sk-toggleable\"><input class=\"sk-toggleable__control sk-hidden--visually\" id=\"sk-estimator-id-1\" type=\"checkbox\" checked><label for=\"sk-estimator-id-1\" class=\"sk-toggleable__label sk-toggleable__label-arrow\">LogisticRegression</label><div class=\"sk-toggleable__content\"><pre>LogisticRegression(max_iter=1000)</pre></div></div></div></div></div>"
      ],
      "text/plain": [
       "LogisticRegression(max_iter=1000)"
      ]
     },
     "execution_count": 10,
     "metadata": {},
     "output_type": "execute_result"
    }
   ],
   "source": [
    "# logistic regression model building\n",
    "\n",
    "from sklearn.linear_model import LogisticRegression\n",
    "\n",
    "X_train, X_test, y_train, y_test = train_test_split(X, y_binary_imbalanced, random_state = 0)\n",
    "model = LogisticRegression(max_iter = 1000)\n",
    "model.fit(X_train, y_train)"
   ]
  },
  {
   "cell_type": "code",
   "execution_count": 11,
   "id": "48a88c7d-ce6f-4fce-95bc-4ec7846ca279",
   "metadata": {},
   "outputs": [],
   "source": [
    "# applying decision function to plot the curve\n",
    "\n",
    "y_dec = model.decision_function(X_test)"
   ]
  },
  {
   "cell_type": "code",
   "execution_count": 12,
   "id": "ff046916-f016-4163-b0f0-01d7f63ce1ad",
   "metadata": {},
   "outputs": [
    {
     "data": {
      "text/plain": [
       "[(0, -34.604939976735196),\n",
       " (0, -17.99863490422057),\n",
       " (0, -20.991492319037526),\n",
       " (0, -36.778287211692586),\n",
       " (0, -39.29707707913165),\n",
       " (0, -18.85066411408463),\n",
       " (1, 5.99895838214584),\n",
       " (0, -32.68759855591022),\n",
       " (0, -35.46661258088268),\n",
       " (0, -37.33119317196025),\n",
       " (0, -25.0277394461842),\n",
       " (0, -21.397029947321833),\n",
       " (0, -36.48212884084434),\n",
       " (0, -15.908305982280542),\n",
       " (0, -12.832718534368713),\n",
       " (0, -13.714626562086181),\n",
       " (1, 14.759069206643584),\n",
       " (0, -39.375908539013345),\n",
       " (0, -26.077063537470117),\n",
       " (0, -28.42144805036)]"
      ]
     },
     "execution_count": 12,
     "metadata": {},
     "output_type": "execute_result"
    }
   ],
   "source": [
    "df_l = list(zip(y_test[0:20], y_dec[0:20]))\n",
    "df_l"
   ]
  },
  {
   "cell_type": "code",
   "execution_count": 13,
   "id": "3d219c6c-da01-4285-b69c-932222026eed",
   "metadata": {},
   "outputs": [],
   "source": [
    "from sklearn.metrics import precision_recall_curve\n",
    "\n",
    "precision, recall, thresholds = precision_recall_curve(y_test, y_dec)\n",
    "\n",
    "closest_zero = np.argmin(np.abs(thresholds))\n",
    "closest_zero_p = precision[closest_zero]\n",
    "closest_zero_r = recall[closest_zero]"
   ]
  },
  {
   "cell_type": "code",
   "execution_count": 14,
   "id": "23e456b9-f96c-492f-ace8-68f6e1cfc055",
   "metadata": {},
   "outputs": [
    {
     "data": {
      "image/png": "[encoded data removed]",
      "text/plain": [
       "<Figure size 640x480 with 1 Axes>"
      ]
     },
     "metadata": {},
     "output_type": "display_data"
    }
   ],
   "source": [
    "plt.figure()\n",
    "plt.xlim([0.0, 1.01])\n",
    "plt.ylim([0.0, 1.01])\n",
    "plt.plot(precision, recall, label = 'Precision-Recall Curve')\n",
    "plt.plot(closest_zero_p, closest_zero_r, 'o', markersize = 10, fillstyle = 'none', c='r')\n",
    "plt.show()"
   ]
  },
  {
   "cell_type": "markdown",
   "id": "843009d9-c676-412e-a40e-9832a8f58cd5",
   "metadata": {},
   "source": [
    "## ROC (Receiver Operating Characteristic) Curves"
   ]
  },
  {
   "cell_type": "code",
   "execution_count": 15,
   "id": "15e013b7-97ec-48e2-bcc2-a0cf2d612873",
   "metadata": {},
   "outputs": [],
   "source": [
    "from sklearn.metrics import roc_curve, auc\n",
    "from sklearn.svm import SVC\n",
    "\n",
    "model = SVC(kernel = 'rbf')\n",
    "X_train, X_test, y_train, y_test = train_test_split(X, y_binary_imbalanced, random_state = 0)\n",
    "y_score = model.fit(X_train, y_train).decision_function(X_test)\n",
    "\n",
    "fpr_lr, tpr_lr, thresholds = roc_curve(y_test, y_score)"
   ]
  },
  {
   "cell_type": "code",
   "execution_count": 43,
   "id": "1043db26-c08f-436d-86a8-b19e4edd5dc9",
   "metadata": {},
   "outputs": [
    {
     "name": "stdout",
     "output_type": "stream",
     "text": [
      "Area Under the Curve: 0.9993714644877436\n"
     ]
    }
   ],
   "source": [
    "auc_lr = auc(fpr_lr, tpr_lr)\n",
    "print('Area Under the Curve:', auc_lr)"
   ]
  },
  {
   "cell_type": "code",
   "execution_count": 17,
   "id": "06f061cb-e6f1-47ff-80b0-eaa5bdce19ea",
   "metadata": {},
   "outputs": [
    {
     "data": {
      "image/png": "[encoded data removed]",
      "text/plain": [
       "<Figure size 640x480 with 1 Axes>"
      ]
     },
     "metadata": {},
     "output_type": "display_data"
    }
   ],
   "source": [
    "plt.plot(fpr_lr, tpr_lr)\n",
    "plt.xlabel('FPR')\n",
    "plt.ylabel('TPR')\n",
    "plt.plot([0, 1], linestyle = '--')\n",
    "plt.show()"
   ]
  },
  {
   "cell_type": "code",
   "execution_count": 18,
   "id": "422181d8-63af-442a-a9de-f6309bfd133f",
   "metadata": {},
   "outputs": [
    {
     "name": "stdout",
     "output_type": "stream",
     "text": [
      "The AUC for the SVC model when gamma is 0.01 is 1.00\n",
      "The AUC for the SVC model when gamma is 0.1 is 0.98\n",
      "The AUC for the SVC model when gamma is 0.2 is 0.66\n",
      "The AUC for the SVC model when gamma is 1 is 0.50\n"
     ]
    }
   ],
   "source": [
    "X_train, X_test, y_train, y_test = train_test_split(X, y_binary_imbalanced, random_state = 0) \n",
    "for g in [0.01, 0.1, 0.2, 1]:\n",
    "    y_score = SVC(kernel = 'rbf', gamma = g).fit(X_train, y_train).decision_function(X_test)\n",
    "\n",
    "    fpr_svc, tpr_svc, thresholds = roc_curve(y_test, y_score)\n",
    "    auc_svc = auc(fpr_svc, tpr_svc)\n",
    "\n",
    "    print('The AUC for the SVC model when gamma is',g,'is {:.2f}'.format(auc_svc))"
   ]
  },
  {
   "cell_type": "markdown",
   "id": "905d25d4-1003-4394-bb13-8229dfe675f0",
   "metadata": {},
   "source": [
    "## Multi-Class Classification Evaluation"
   ]
  },
  {
   "cell_type": "code",
   "execution_count": 19,
   "id": "b0eee110-bcc5-4d6d-a166-2215460e341d",
   "metadata": {},
   "outputs": [
    {
     "data": {
      "image/png": "[encoded data removed]",
      "text/plain": [
       "<Figure size 640x480 with 2 Axes>"
      ]
     },
     "metadata": {},
     "output_type": "display_data"
    }
   ],
   "source": [
    "from sklearn.metrics import confusion_matrix\n",
    "\n",
    "dataset = load_digits()\n",
    "X, y = dataset.data, dataset.target\n",
    "X_train, X_test, y_train, y_test = train_test_split(X, y, random_state = 0)\n",
    "\n",
    "svc_lin = SVC(kernel = 'linear').fit(X_train, y_train)\n",
    "svc_lin_pred = svc_lin.predict(X_test)\n",
    "\n",
    "svc_lin_cm = confusion_matrix(y_test, svc_lin_pred)\n",
    "\n",
    "sns.heatmap(svc_lin_cm, annot = True)\n",
    "plt.show()"
   ]
  },
  {
   "cell_type": "code",
   "execution_count": 20,
   "id": "1d4732bd-19f1-492b-a9e2-54ca67ece750",
   "metadata": {},
   "outputs": [
    {
     "data": {
      "image/png": "[encoded data removed]",
      "text/plain": [
       "<Figure size 640x480 with 2 Axes>"
      ]
     },
     "metadata": {},
     "output_type": "display_data"
    }
   ],
   "source": [
    "svc_lin = SVC(kernel = 'rbf').fit(X_train, y_train)\n",
    "svc_lin_pred = svc_lin.predict(X_test)\n",
    "\n",
    "svc_lin_cm = confusion_matrix(y_test, svc_lin_pred)\n",
    "svc_lin_cm\n",
    "\n",
    "sns.heatmap(svc_lin_cm, annot = True)\n",
    "plt.show()"
   ]
  },
  {
   "cell_type": "code",
   "execution_count": 21,
   "id": "f46cd0d2-1d1e-4bcf-ba5a-87ba80482f02",
   "metadata": {},
   "outputs": [
    {
     "name": "stdout",
     "output_type": "stream",
     "text": [
      "              precision    recall  f1-score   support\n",
      "\n",
      "           0       1.00      1.00      1.00        37\n",
      "           1       0.98      1.00      0.99        43\n",
      "           2       1.00      1.00      1.00        44\n",
      "           3       1.00      0.98      0.99        45\n",
      "           4       1.00      1.00      1.00        38\n",
      "           5       0.98      0.98      0.98        48\n",
      "           6       1.00      1.00      1.00        52\n",
      "           7       1.00      1.00      1.00        48\n",
      "           8       0.98      0.98      0.98        48\n",
      "           9       0.98      0.98      0.98        47\n",
      "\n",
      "    accuracy                           0.99       450\n",
      "   macro avg       0.99      0.99      0.99       450\n",
      "weighted avg       0.99      0.99      0.99       450\n",
      "\n"
     ]
    }
   ],
   "source": [
    "print(classification_report(y_test, svc_lin_pred))"
   ]
  },
  {
   "cell_type": "markdown",
   "id": "8d9e2029-ec7b-4cbd-b57f-538a071a75b5",
   "metadata": {},
   "source": [
    "## Micro versus Macro Averaged Metrics"
   ]
  },
  {
   "cell_type": "code",
   "execution_count": 24,
   "id": "6302ee47-4822-4ed5-9665-f96fa3909c0e",
   "metadata": {},
   "outputs": [
    {
     "name": "stdout",
     "output_type": "stream",
     "text": [
      "Precision Score (Macro Avg.): 0.9914\n",
      "Precision Score (Micro Avg.): 0.9911\n"
     ]
    }
   ],
   "source": [
    "a = precision_score(y_test, svc_lin_pred, average = 'macro')\n",
    "b = precision_score(y_test, svc_lin_pred, average = 'micro')\n",
    "print('Precision Score (Macro Avg.): {:.4f}'.format(a))\n",
    "print('Precision Score (Micro Avg.): {:.4f}'.format(b))"
   ]
  },
  {
   "cell_type": "markdown",
   "id": "095c252d-4795-4b75-8f4b-0ed43ebbe3c0",
   "metadata": {},
   "source": [
    "## Regression Evaluation Metrics"
   ]
  },
  {
   "cell_type": "code",
   "execution_count": 25,
   "id": "56717271-539f-40f7-9356-b6f225c50102",
   "metadata": {},
   "outputs": [
    {
     "name": "stdout",
     "output_type": "stream",
     "text": [
      "MSE for Real Model: 3180.16\n",
      "MSE for Dummy Model: 4965.13\n",
      "R2 Score for Real Model: 0.36\n",
      "R2 Score for Dummy Model: -0.00\n"
     ]
    }
   ],
   "source": [
    "from sklearn import datasets\n",
    "from sklearn.linear_model import LinearRegression\n",
    "from sklearn.dummy import DummyRegressor\n",
    "from sklearn.metrics import mean_squared_error, r2_score\n",
    "\n",
    "dataset = datasets.load_diabetes()\n",
    "\n",
    "X, y = dataset.data, dataset.target\n",
    "X_train, X_test, y_train, y_test = train_test_split(X, y, random_state = 0)\n",
    "\n",
    "lr = LinearRegression().fit(X_train, y_train)\n",
    "lr_dummy = DummyRegressor(strategy = 'mean').fit(X_train, y_train)\n",
    "\n",
    "lr_pred = lr.predict(X_test)\n",
    "lr_dummy_pred = lr_dummy.predict(X_test)\n",
    "\n",
    "mse_lr = mean_squared_error(y_test, lr_pred)\n",
    "mse_lr_dummy = mean_squared_error(y_test, lr_dummy_pred)\n",
    "\n",
    "r2_lr = r2_score(y_test, lr_pred)\n",
    "r2_lr_dummy = r2_score(y_test, lr_dummy_pred)\n",
    "\n",
    "print('MSE for Real Model: {:.2f}'.format(mse_lr))\n",
    "print('MSE for Dummy Model: {:.2f}'.format(mse_lr_dummy))\n",
    "print('R2 Score for Real Model: {:.2f}'.format(r2_lr))\n",
    "print('R2 Score for Dummy Model: {:.2f}'.format(r2_lr_dummy))"
   ]
  },
  {
   "cell_type": "markdown",
   "id": "7992b28c-9e9c-43b8-a1e3-ac7222ab785f",
   "metadata": {},
   "source": [
    "## Model Selection Using Cross-Validation"
   ]
  },
  {
   "cell_type": "code",
   "execution_count": 26,
   "id": "50284012-2ba0-40c0-bfd2-3f4ab3eec148",
   "metadata": {},
   "outputs": [
    {
     "name": "stdout",
     "output_type": "stream",
     "text": [
      "CVS (accuracy): [0.91944444 0.98611111 0.97214485 0.97493036 0.96935933]\n",
      "CVS (AUC): [0.9641871  0.9976571  0.99372205 0.99699002 0.98675611]\n",
      "CVS (recall): [0.81081081 0.89189189 0.83333333 0.83333333 0.83333333]\n"
     ]
    }
   ],
   "source": [
    "from sklearn.model_selection import cross_val_score\n",
    "from sklearn.svm import SVC\n",
    "from sklearn.datasets import load_digits\n",
    "\n",
    "dataset = load_digits()\n",
    "X, y = dataset.data, dataset.target == 1\n",
    "clf = SVC(kernel = 'linear', C = 1)\n",
    "\n",
    "print('CVS (accuracy):', cross_val_score(clf, X, y))\n",
    "print('CVS (AUC):', cross_val_score(clf, X, y, scoring = 'roc_auc'))\n",
    "print('CVS (recall):', cross_val_score(clf, X, y,scoring = 'recall'))"
   ]
  },
  {
   "cell_type": "markdown",
   "id": "affb1f3e-ae29-47b8-bbf0-a687a9de6025",
   "metadata": {},
   "source": [
    "## Model Selection Using Grid Search"
   ]
  },
  {
   "cell_type": "code",
   "execution_count": 44,
   "id": "4107e21d-6f3c-49bc-9db7-54e4c33c9476",
   "metadata": {},
   "outputs": [
    {
     "name": "stdout",
     "output_type": "stream",
     "text": [
      "Best Parameter and its Score for default metric: Accuracy\n",
      "{'gamma': 0.001}\n",
      "0.9910890816467024\n"
     ]
    }
   ],
   "source": [
    "from sklearn.model_selection import GridSearchCV\n",
    "from sklearn.metrics import roc_auc_score\n",
    "\n",
    "dataset = load_digits()\n",
    "X, y = dataset.data, dataset.target\n",
    "X_train, X_test, y_train, y_test = train_test_split(X, y, random_state = 0)\n",
    "\n",
    "clf = SVC(kernel = 'rbf')\n",
    "grid_values = {'gamma' : [0.001, 0.01, 0.05, 0.1, 1, 10, 100]}\n",
    "\n",
    "gs_cv = GridSearchCV(clf, param_grid = grid_values).fit(X_train, y_train)\n",
    "print('Best Parameter and its Score for default metric: Accuracy')\n",
    "print(gs_cv.best_params_)\n",
    "print(gs_cv.best_score_)"
   ]
  }
 ],
 "metadata": {
  "kernelspec": {
   "display_name": "Python 3 (ipykernel)",
   "language": "python",
   "name": "python3"
  },
  "language_info": {
   "codemirror_mode": {
    "name": "ipython",
    "version": 3
   },
   "file_extension": ".py",
   "mimetype": "text/x-python",
   "name": "python",
   "nbconvert_exporter": "python",
   "pygments_lexer": "ipython3",
   "version": "3.10.4"
  }
 },
 "nbformat": 4,
 "nbformat_minor": 5
}
